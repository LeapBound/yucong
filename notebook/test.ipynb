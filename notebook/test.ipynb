{
 "cells": [
  {
   "cell_type": "code",
   "execution_count": null,
   "id": "d2c0aa99-84dd-4667-b7a0-32dab593cee7",
   "metadata": {},
   "outputs": [],
   "source": [
    "!pip install openai\n",
    "!pip install dotenv"
   ]
  },
  {
   "cell_type": "code",
   "execution_count": 8,
   "id": "c0596d47-53ab-421b-904a-b7423d72db57",
   "metadata": {},
   "outputs": [],
   "source": [
    "import os\n",
    "import openai\n",
    "from dotenv import load_dotenv, find_dotenv\n",
    "\n",
    "_ = load_dotenv(find_dotenv()) # read local .env file\n",
    "openai.api_key = os.environ['API2D_API_KEY']\n",
    "openai.api_base = 'https://openai.api2d.net/v1'"
   ]
  },
  {
   "cell_type": "code",
   "execution_count": 4,
   "id": "209f9267-5dc7-4fb5-9906-64735b3e3b56",
   "metadata": {},
   "outputs": [],
   "source": [
    "# 用户的商品评价\n",
    "customer_review = \"\"\"\n",
    "MacBook Pro特别棒！特别喜欢！m2处理器性能超强，就是价钱有点小贵！电池续航逆天！不发热！还带有黑科技触控栏！这是我送给奶奶的礼物，但是花了好三天才到。\n",
    "\"\"\"\n",
    "\n",
    "# Prompt 编写\n",
    "review_template = \"\"\"\\\n",
    "从以下的文本提取信息:\n",
    "\n",
    "gift: 是不是为某个人购买的礼物？如果是的回答True，如果不是回答False\n",
    "delivery_days: 花了几天收到了礼物？输出一个数字，如果没有这个信息，输出-1\n",
    "price_value: 获取这个物品的价格或者价值，如果有多个，用逗号分隔组成一个python数组\n",
    "\n",
    "用以下的键值来格式化信息并输出一个JSON:\n",
    "gift\n",
    "delivery_days\n",
    "price_value\n",
    "\n",
    "文本: {text}\n",
    "\"\"\"\n"
   ]
  },
  {
   "cell_type": "code",
   "execution_count": 28,
   "id": "db3311d8-7627-4b53-8148-499bf040630c",
   "metadata": {},
   "outputs": [],
   "source": [
    "def get_next_date():\n",
    "    return \"我准备端午节的时候上新\"\n",
    "    \n",
    "functions = [\n",
    "    {\n",
    "        \"name\": \"getNextDate\",\n",
    "        \"description\": \"获取上新时间\",\n",
    "        \"parameters\": {\n",
    "            \"type\": \"object\",\n",
    "            \"properties\": {\n",
    "                \"type\": {\n",
    "                    \"type\": \"string\",\n",
    "                    \"description\": \"童装款式\",\n",
    "                }\n",
    "            },\n",
    "            \"required\": [],\n",
    "        },\n",
    "    }\n",
    "]\n",
    "available_functions = {\n",
    "    \"getNextDate\": get_next_date,\n",
    "} \n"
   ]
  },
  {
   "cell_type": "code",
   "execution_count": 32,
   "id": "61f18594-1fda-4265-9dc2-2f54f6ba4bcd",
   "metadata": {},
   "outputs": [
    {
     "name": "stdout",
     "output_type": "stream",
     "text": [
      "我们计划在端午节期间推出一批新款童装。请您留意我们网店的最新消息和更新，以获取详细的上新时间和产品。如果您有其他问题或需要帮助，随时都可以向我咨询。谢谢！\n"
     ]
    }
   ],
   "source": [
    "import json\n",
    "\n",
    "messages = [\n",
    "        {\"role\": \"system\", \"content\": \"你现在是一个童装网店的客服\"},\n",
    "        {\"role\": \"user\", \"content\": \"什么时候上新\"}\n",
    "    ]\n",
    "rsp = openai.ChatCompletion.create(\n",
    "  model=\"gpt-3.5-turbo-0613\",\n",
    "  functions=functions,\n",
    "  function_call=\"auto\",\n",
    "  messages=messages\n",
    ")\n",
    "response_message=rsp[\"choices\"][0][\"message\"]\n",
    "function_name = response_message[\"function_call\"][\"name\"]\n",
    "fuction_to_call = available_functions[function_name]\n",
    "function_args = json.loads(response_message[\"function_call\"][\"arguments\"])\n",
    "# 用这种方式可以调起任意python函数，不用像官网那样还要指定参数名  \n",
    "function_response = fuction_to_call(**function_args)\n",
    "# 获取到函数调用结果后，需要将结果拼接到对话记录里，并再次调用ChatGPT\n",
    "messages.append(response_message) \n",
    "messages.append(\n",
    "    {\n",
    "        \"role\": \"function\",\n",
    "        \"name\": function_name,\n",
    "        \"content\": function_response,\n",
    "    }\n",
    ") \n",
    "# 二次调用的返回结果里就是我们预期的结果了 \n",
    "response2 = openai.ChatCompletion.create(\n",
    "    model=\"gpt-3.5-turbo-0613\",\n",
    "    messages=messages,\n",
    ")\n",
    "rtn_message = response2[\"choices\"][0][\"message\"]\n",
    "print(rtn_message.get('content'))"
   ]
  }
 ],
 "metadata": {
  "kernelspec": {
   "display_name": "Python 3 (ipykernel)",
   "language": "python",
   "name": "python3"
  },
  "language_info": {
   "codemirror_mode": {
    "name": "ipython",
    "version": 3
   },
   "file_extension": ".py",
   "mimetype": "text/x-python",
   "name": "python",
   "nbconvert_exporter": "python",
   "pygments_lexer": "ipython3",
   "version": "3.9.16"
  }
 },
 "nbformat": 4,
 "nbformat_minor": 5
}
