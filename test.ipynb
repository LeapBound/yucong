{
 "cells": [
  {
   "cell_type": "code",
   "execution_count": null,
   "id": "d2c0aa99-84dd-4667-b7a0-32dab593cee7",
   "metadata": {},
   "outputs": [],
   "source": [
    "!pip install openai\n",
    "!pip install langchain\n",
    "!pip install dotenv"
   ]
  },
  {
   "cell_type": "code",
   "execution_count": 2,
   "id": "c0596d47-53ab-421b-904a-b7423d72db57",
   "metadata": {},
   "outputs": [],
   "source": [
    "import os\n",
    "import openai\n",
    "from dotenv import load_dotenv, find_dotenv\n",
    "\n",
    "_ = load_dotenv(find_dotenv()) # read local .env file\n",
    "gpt_api_key = os.environ['API2D_API_KEY']"
   ]
  },
  {
   "cell_type": "code",
   "execution_count": 3,
   "id": "dcadfe07-be96-4044-8afe-b4d96a3dfa6d",
   "metadata": {},
   "outputs": [],
   "source": [
    "from langchain.chat_models import ChatOpenAI\n",
    "\n",
    "# chatGPT\n",
    "chat=ChatOpenAI(\n",
    "    temperature=0.0,\n",
    "    model_name=\"gpt-3.5-turbo-0613\", \n",
    "    max_tokens=1000,\n",
    "    openai_api_key=gpt_api_key,\n",
    "    openai_api_base='https://openai.api2d.net/v1'\n",
    ")"
   ]
  },
  {
   "cell_type": "code",
   "execution_count": 4,
   "id": "209f9267-5dc7-4fb5-9906-64735b3e3b56",
   "metadata": {},
   "outputs": [],
   "source": [
    "from langchain.prompts import ChatPromptTemplate\n",
    "\n",
    "# 用户的商品评价\n",
    "customer_review = \"\"\"\n",
    "MacBook Pro特别棒！特别喜欢！m2处理器性能超强，就是价钱有点小贵！电池续航逆天！不发热！还带有黑科技触控栏！这是我送给奶奶的礼物，但是花了好三天才到。\n",
    "\"\"\"\n",
    "\n",
    "# Prompt 编写\n",
    "review_template = \"\"\"\\\n",
    "从以下的文本提取信息:\n",
    "\n",
    "gift: 是不是为某个人购买的礼物？如果是的回答True，如果不是回答False\n",
    "delivery_days: 花了几天收到了礼物？输出一个数字，如果没有这个信息，输出-1\n",
    "price_value: 获取这个物品的价格或者价值，如果有多个，用逗号分隔组成一个python数组\n",
    "\n",
    "用以下的键值来格式化信息并输出一个JSON:\n",
    "gift\n",
    "delivery_days\n",
    "price_value\n",
    "\n",
    "文本: {text}\n",
    "\"\"\"\n"
   ]
  },
  {
   "cell_type": "code",
   "execution_count": 5,
   "id": "57c24e2b-049b-4773-8fe7-ad3543f02af1",
   "metadata": {},
   "outputs": [
    {
     "name": "stdout",
     "output_type": "stream",
     "text": [
      "[HumanMessage(lc_kwargs={'content': '从以下的文本提取信息:\\n\\ngift: 是不是为某个人购买的礼物？如果是的回答True，如果不是回答False\\ndelivery_days: 花了几天收到了礼物？输出一个数字，如果没有这个信息，输出-1\\nprice_value: 获取这个物品的价格或者价值，如果有多个，用逗号分隔组成一个python数组\\n\\n用以下的键值来格式化信息并输出一个JSON:\\ngift\\ndelivery_days\\nprice_value\\n\\n文本: \\nMacBook Pro特别棒！特别喜欢！m2处理器性能超强，就是价钱有点小贵！电池续航逆天！不发热！还带有黑科技触控栏！这是我送给奶奶的礼物，但是花了好三天才到。\\n\\n', 'additional_kwargs': {}}, content='从以下的文本提取信息:\\n\\ngift: 是不是为某个人购买的礼物？如果是的回答True，如果不是回答False\\ndelivery_days: 花了几天收到了礼物？输出一个数字，如果没有这个信息，输出-1\\nprice_value: 获取这个物品的价格或者价值，如果有多个，用逗号分隔组成一个python数组\\n\\n用以下的键值来格式化信息并输出一个JSON:\\ngift\\ndelivery_days\\nprice_value\\n\\n文本: \\nMacBook Pro特别棒！特别喜欢！m2处理器性能超强，就是价钱有点小贵！电池续航逆天！不发热！还带有黑科技触控栏！这是我送给奶奶的礼物，但是花了好三天才到。\\n\\n', additional_kwargs={}, example=False)]\n",
      "{\n",
      "  \"gift\": true,\n",
      "  \"delivery_days\": 3,\n",
      "  \"price_value\": [\"小贵\"]\n",
      "}\n"
     ]
    }
   ],
   "source": [
    "from langchain.prompts import ChatPromptTemplate\n",
    "\n",
    "# 创建 ChatPromptTemplate\n",
    "prompt_template = ChatPromptTemplate.from_template(review_template)\n",
    "messages = prompt_template.format_messages(text=customer_review)\n",
    "print(messages)\n",
    "\n",
    "# 请求\n",
    "response = chat(messages)\n",
    "print(response.content)\n"
   ]
  },
  {
   "cell_type": "code",
   "execution_count": null,
   "id": "c05a6129-00eb-4db4-956b-38b488fdfbee",
   "metadata": {},
   "outputs": [],
   "source": []
  }
 ],
 "metadata": {
  "kernelspec": {
   "display_name": "Python 3 (ipykernel)",
   "language": "python",
   "name": "python3"
  },
  "language_info": {
   "codemirror_mode": {
    "name": "ipython",
    "version": 3
   },
   "file_extension": ".py",
   "mimetype": "text/x-python",
   "name": "python",
   "nbconvert_exporter": "python",
   "pygments_lexer": "ipython3",
   "version": "3.9.16"
  }
 },
 "nbformat": 4,
 "nbformat_minor": 5
}
